{
  "cells": [
    {
      "cell_type": "raw",
      "metadata": {},
      "source": [
        "---\n",
        "title: \"Linear Functions/Equations and Rates of Change\"\n",
        "---"
      ],
      "id": "4816d850"
    },
    {
      "cell_type": "markdown",
      "metadata": {},
      "source": [
        "## Definitions and Notation for Linear Functions\n",
        "\n",
        "As you hop into a taxicab in Allentown, the meter will immediately read \\$3.30; this is the \"drop\" charge made when the taximeter is activated. After that initial fee, the taximeter will add \\$2.40 for each mile the taxi drives. In this scenario, the total taxi fare depends upon the number o|\n",
        "miles ridden in the taxi, and we can ask whether it is possible to model this type of scenario with a function. Using descriptive variables, we choose $m$ for miles and $C$ for Cost in dollars as a function of miles: $C(m)$.\n",
        "\n",
        "Here, $C(0)$ means the cost for travelling 0 miles (assuming you have entered the taxi). This cost is $\\$3.3$. We can write this mathematically as\n",
        "\n",
        "``` toml\n",
        "C(0)=3.3\n",
        "```\n",
        "\n",
        "Similarly, $C(2)$ means the cost of travelling 2 miles and can be computed as\n",
        "\n",
        "``` toml\n",
        "C(2) = 3.3 + (2.4 x 2)=8.1\n",
        "```\n",
        "\n",
        "Here, we take the base charge of $\\$3.3$ and add it to the charge for riding 2 miles to get a grand total of 8.1.\n",
        "\n",
        "In general, if we travel $m$ miles, we can compute the cost as\n",
        "\n",
        "```toml\n",
        "C(m)=3.3 + 2.4m\n",
        "```\n",
        "It is often useful to think carefully about the units of each component and how they relate. The expression below shows how this plays out in our taxi context:\n",
        "\n",
        "$$C(m)=3.3 \\hspace{.1in} dollars + 2.4 \\hspace{.08in} \\frac{dollars}{mile} \\times m\\hspace{.1in} miles$$\n",
        "\n",
        "When dollars per mile are multiplied by a number of miles, the result is a number of dollars, matching the units on the 3.30, and matching the desired units for the C function. This means the units for the output, C(m), will be dollars. \n",
        "\n",
        "We call a relationship such as this, a ***FUNCTION*** of $m$. This function takes $m$ (the miles traveled) as the ***INPUT*** and produces $C(m)$ (the cost of travelling $m$ miles) as the ***OUTPUT***. As you will learn shortly, this is an example of a ***LINEAR FUNCTION***. There are other types of functions (e.g., exponential, quadratic, etc.). In this course, the main focus is on linear functions. We will learn how to model real life situations and find their solutions by leveraging the ideas learned under linear functions.\n",
        "\n",
        "### Table Format\n",
        "\n",
        "Instead of using a formula, we can use a table to represent the same function. Below is an example:\n",
        "\n",
        "| m  | C(m)\n",
        "| -|-  \n",
        "| 0|25 \n",
        "| 1|30\n",
        "| 2|28\n",
        "\n",
        "\n",
        "\n",
        "```{tex}\n",
        "\n",
        "\\begin{tabularx}{0.8\\textwidth} { \n",
        "  | >{\\raggedright\\arraybackslash}X \n",
        "  | >{\\centering\\arraybackslash}X \n",
        "  | >{\\raggedleft\\arraybackslash}X | }\n",
        " \\hline\n",
        " item 11 & item 12 & item 13 \\\\\n",
        " \\hline\n",
        " item 21  & item 22  & item 23  \\\\\n",
        "\\hline\n",
        "\\end{tabularx}\n",
        "\n",
        "```"
      ],
      "id": "4966b743"
    }
  ],
  "metadata": {
    "kernelspec": {
      "display_name": "Python 3",
      "language": "python",
      "name": "python3"
    }
  },
  "nbformat": 4,
  "nbformat_minor": 5
}